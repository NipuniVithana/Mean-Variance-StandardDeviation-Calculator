{
 "cells": [
  {
   "cell_type": "code",
   "execution_count": 5,
   "id": "f13e848a-674e-4efd-9c04-71bc354c88e0",
   "metadata": {},
   "outputs": [],
   "source": [
    "import numpy as np\n",
    "\n",
    "def calculate(list):\n",
    "    if len(list) != 9:\n",
    "        raise ValueError(\"List must contain nine numbers..\")\n",
    "    \n",
    "    array = np.array(list).reshape((3,3))\n",
    "\n",
    "    calculations = {\n",
    "        'mean': [array.mean(axis=0).tolist(), array.mean(axis=1).tolist(), np.mean(array).tolist()],\n",
    "        'variance': [array.var(axis=0).tolist(), array.var(axis=1).tolist(), np.var(array).tolist()],\n",
    "        'standard deviation': [array.std(axis=0).tolist(), array.std(axis=1).tolist(), np.std(array).tolist()],\n",
    "        'max': [array.max(axis=0).tolist(), array.max(axis=1).tolist(), np.max(array).tolist()],\n",
    "        'min': [array.min(axis=0).tolist(), array.min(axis=1).tolist(), np.min(array).tolist()],\n",
    "        'sum': [array.sum(axis=0).tolist(), array.sum(axis=1).tolist(), np.sum(array).tolist()]\n",
    "    }\n",
    "\n",
    "    \n",
    "\n",
    "    return calculations"
   ]
  },
  {
   "cell_type": "code",
   "execution_count": 6,
   "id": "e4b7d75b-e3d6-44e5-9f91-74c2282d073d",
   "metadata": {},
   "outputs": [
    {
     "name": "stdout",
     "output_type": "stream",
     "text": [
      "{'mean': [[3.0, 4.0, 5.0], [1.0, 4.0, 7.0], 4.0], 'variance': [[6.0, 6.0, 6.0], [0.6666666666666666, 0.6666666666666666, 0.6666666666666666], 6.666666666666667], 'standard deviation': [[2.449489742783178, 2.449489742783178, 2.449489742783178], [0.816496580927726, 0.816496580927726, 0.816496580927726], 2.581988897471611], 'max': [[6, 7, 8], [2, 5, 8], 8], 'min': [[0, 1, 2], [0, 3, 6], 0], 'sum': [[9, 12, 15], [3, 12, 21], 36]}\n"
     ]
    }
   ],
   "source": [
    "print(calculate([0,1,2,3,4,5,6,7,8]))"
   ]
  },
  {
   "cell_type": "code",
   "execution_count": null,
   "id": "ce58e72c-76ea-4abd-9092-5fbb38e89d6d",
   "metadata": {},
   "outputs": [],
   "source": []
  }
 ],
 "metadata": {
  "kernelspec": {
   "display_name": "Python 3 (ipykernel)",
   "language": "python",
   "name": "python3"
  },
  "language_info": {
   "codemirror_mode": {
    "name": "ipython",
    "version": 3
   },
   "file_extension": ".py",
   "mimetype": "text/x-python",
   "name": "python",
   "nbconvert_exporter": "python",
   "pygments_lexer": "ipython3",
   "version": "3.12.2"
  }
 },
 "nbformat": 4,
 "nbformat_minor": 5
}
